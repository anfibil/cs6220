{
 "cells": [
  {
   "cell_type": "markdown",
   "metadata": {},
   "source": [
    "# Classification"
   ]
  },
  {
   "cell_type": "markdown",
   "metadata": {},
   "source": [
    "Classification is the supervised learning task of predicting the value of a categorical outcome (\"class\") variable, _y_, given real and/or categorical input (\"feature\") data, _X_. The objective of classification is to learn a model of the data that can be use to predict the correct class variable for new or unseen feature data."
   ]
  },
  {
   "cell_type": "markdown",
   "metadata": {},
   "source": [
    "A variety of classification algorithms exist. These algorithms have been developed under varying assumptions and employ different concepts. Each algorithm may interact with data differently based upon the size, dimensionality, and noise of the dataset, among other characteristics. These algorithms may have varying degrees of interpretability, variability, and bias."
   ]
  },
  {
   "cell_type": "markdown",
   "metadata": {},
   "source": [
    "Here, we'll use the `scikit-learn` (sklearn) package to expore the use of several classification algorithms. Let's fetch the Iris dataset from the UCI Machine Learning repository."
   ]
  },
  {
   "cell_type": "code",
   "execution_count": 50,
   "metadata": {
    "collapsed": true
   },
   "outputs": [],
   "source": [
    "import numpy as np\n",
    "import pandas as pd\n",
    "\n",
    "file_url = 'http://archive.ics.uci.edu/ml/machine-learning-databases/iris/iris.data'\n",
    "col_names = ['Sepal Length', 'Sepal Width', 'Petal Length', 'Petal Width', 'Name']\n",
    "df_iris = pd.read_csv(file_url, names=col_names, header=None)\n",
    "\n",
    "X = df_iris.iloc[:, :2]  # features\n",
    "y = df_iris.iloc[:, -1]  # class"
   ]
  },
  {
   "cell_type": "markdown",
   "metadata": {},
   "source": [
    "We can print some of the feature and the class values."
   ]
  },
  {
   "cell_type": "code",
   "execution_count": 51,
   "metadata": {},
   "outputs": [
    {
     "name": "stdout",
     "output_type": "stream",
     "text": [
      "   Sepal Length  Sepal Width\n",
      "0           5.1          3.5\n",
      "1           4.9          3.0\n",
      "2           4.7          3.2\n",
      "3           4.6          3.1\n",
      "4           5.0          3.6\n",
      "\n",
      "0    Iris-setosa\n",
      "1    Iris-setosa\n",
      "2    Iris-setosa\n",
      "3    Iris-setosa\n",
      "4    Iris-setosa\n",
      "Name: Name, dtype: object\n"
     ]
    }
   ],
   "source": [
    "print(X.head())\n",
    "print()\n",
    "print(y.head())"
   ]
  },
  {
   "cell_type": "markdown",
   "metadata": {},
   "source": [
    "All `sklearn` classification algorithms require that the class values be represented as numbers. We can use the `LabelEncoder` function to convert the string class labels to corresponding integers."
   ]
  },
  {
   "cell_type": "code",
   "execution_count": 52,
   "metadata": {},
   "outputs": [
    {
     "name": "stdout",
     "output_type": "stream",
     "text": [
      "[0 0 0 0 0 0 0 0 0 0 0 0 0 0 0 0 0 0 0 0 0 0 0 0 0 0 0 0 0 0 0 0 0 0 0 0 0\n",
      " 0 0 0 0 0 0 0 0 0 0 0 0 0 1 1 1 1 1 1 1 1 1 1 1 1 1 1 1 1 1 1 1 1 1 1 1 1\n",
      " 1 1 1 1 1 1 1 1 1 1 1 1 1 1 1 1 1 1 1 1 1 1 1 1 1 1 2 2 2 2 2 2 2 2 2 2 2\n",
      " 2 2 2 2 2 2 2 2 2 2 2 2 2 2 2 2 2 2 2 2 2 2 2 2 2 2 2 2 2 2 2 2 2 2 2 2 2\n",
      " 2 2]\n"
     ]
    }
   ],
   "source": [
    "from sklearn.preprocessing import LabelEncoder\n",
    "\n",
    "le = LabelEncoder()\n",
    "le.fit(y)\n",
    "y = le.transform(y)\n",
    "print(y)"
   ]
  },
  {
   "cell_type": "markdown",
   "metadata": {},
   "source": [
    "Now let's apply some classification methods to the data."
   ]
  },
  {
   "cell_type": "markdown",
   "metadata": {},
   "source": [
    "## _k_-Nearest Neighbors"
   ]
  },
  {
   "cell_type": "markdown",
   "metadata": {},
   "source": [
    "One of the simplest classification algorithms is the _k_-nearest neighbors algorithm. Let's import it from `sklearn`. We can call the method with several available inputs. Here, we specify the number of neighbors _k_ to consider."
   ]
  },
  {
   "cell_type": "code",
   "execution_count": 53,
   "metadata": {
    "collapsed": true
   },
   "outputs": [],
   "source": [
    "from sklearn.neighbors import KNeighborsClassifier\n",
    "\n",
    "clf_knn = KNeighborsClassifier(n_neighbors=3)"
   ]
  },
  {
   "cell_type": "markdown",
   "metadata": {},
   "source": [
    "Every classifier in `sklearn` has a `fit()` method. For a supervised learning algorithm, which learns to map features _X_ to classes _y_, we must input the corresponding _X_ and _y_ data."
   ]
  },
  {
   "cell_type": "code",
   "execution_count": 54,
   "metadata": {},
   "outputs": [
    {
     "data": {
      "text/plain": [
       "KNeighborsClassifier(algorithm='auto', leaf_size=30, metric='minkowski',\n",
       "           metric_params=None, n_jobs=1, n_neighbors=3, p=2,\n",
       "           weights='uniform')"
      ]
     },
     "execution_count": 54,
     "metadata": {},
     "output_type": "execute_result"
    }
   ],
   "source": [
    "clf_knn.fit(X, y)"
   ]
  },
  {
   "cell_type": "markdown",
   "metadata": {},
   "source": [
    "We call an algorithm that has been fit (or parameterized) to input data a \"model.\" Can now use the fitted model to predict the class _y_ given new features _X_."
   ]
  },
  {
   "cell_type": "markdown",
   "metadata": {},
   "source": [
    "Here, we'll simply see how well the classifier can predict the data on which it was fit. We can predict on feature data using the fitted model's `predict()` method, the output of which are corresponding class predictions:"
   ]
  },
  {
   "cell_type": "code",
   "execution_count": 55,
   "metadata": {
    "collapsed": true
   },
   "outputs": [],
   "source": [
    "y_pred = clf_knn.predict(X)\n",
    "clf_knn.kneighbors(X);"
   ]
  },
  {
   "cell_type": "markdown",
   "metadata": {},
   "source": [
    "We can compare the actual values, `y`, to the predicted values, `y_pred`. Here we compute the fraction of times that they match:"
   ]
  },
  {
   "cell_type": "code",
   "execution_count": 56,
   "metadata": {},
   "outputs": [
    {
     "name": "stdout",
     "output_type": "stream",
     "text": [
      "0.8533333333333334\n"
     ]
    }
   ],
   "source": [
    "print(np.average(y == y_pred))"
   ]
  },
  {
   "cell_type": "markdown",
   "metadata": {},
   "source": [
    "Let's try visualizing the results. We can use another Python package, `matplotlib`, to generate these visualizations."
   ]
  },
  {
   "cell_type": "code",
   "execution_count": 57,
   "metadata": {},
   "outputs": [],
   "source": [
    "% matplotlib inline\n",
    "\n",
    "import matplotlib.pyplot as plt\n",
    "from matplotlib.colors import ListedColormap"
   ]
  },
  {
   "cell_type": "markdown",
   "metadata": {},
   "source": [
    "Let's first define the color scheme."
   ]
  },
  {
   "cell_type": "code",
   "execution_count": 58,
   "metadata": {
    "collapsed": true
   },
   "outputs": [],
   "source": [
    "# Create color maps.\n",
    "cmap_light = ListedColormap(['#FFAAAA', '#AAFFAA', '#AAAAFF'])\n",
    "cmap_bold = ListedColormap(['#FF0000', '#00FF00', '#0000FF'])"
   ]
  },
  {
   "cell_type": "markdown",
   "metadata": {},
   "source": [
    "Now, let's create a meshgrid of matrix of feature values. For each feature, we'll create a list of evenly spaced values. With two features, this will produce a grid of points. We can calculate the predicted class values for each point in this grid to create a plot with colored decision boundaries."
   ]
  },
  {
   "cell_type": "code",
   "execution_count": 59,
   "metadata": {
    "collapsed": true
   },
   "outputs": [],
   "source": [
    "# Create a mesh of shape [x_min, m_max]x[y_min, y_max].\n",
    "h = .05  # step size in the mesh\n",
    "x_min, x_max = X.iloc[:, 0].min() - 1, X.iloc[:, 0].max() + 1\n",
    "y_min, y_max = X.iloc[:, 1].min() - 1, X.iloc[:, 1].max() + 1\n",
    "xx, yy = np.meshgrid(np.arange(x_min, x_max, h),\n",
    "                     np.arange(y_min, y_max, h))"
   ]
  },
  {
   "cell_type": "markdown",
   "metadata": {},
   "source": [
    "Now let's get the class predictions and create the plot."
   ]
  },
  {
   "cell_type": "code",
   "execution_count": 60,
   "metadata": {},
   "outputs": [
    {
     "data": {
      "image/png": "[encoded data removed]",
      "text/plain": [
       "<matplotlib.figure.Figure at 0x1a217de470>"
      ]
     },
     "metadata": {},
     "output_type": "display_data"
    }
   ],
   "source": [
    "# Predict a class value for each point in the mesh.\n",
    "Z = clf_knn.predict(np.c_[xx.ravel(), yy.ravel()])\n",
    "\n",
    "# Use the predictions to create a color plot.\n",
    "Z = Z.reshape(xx.shape)\n",
    "plt.figure()\n",
    "plt.pcolormesh(xx, yy, Z, cmap=cmap_light)\n",
    "\n",
    "# Plot the training points.\n",
    "plt.scatter(X.iloc[:, 0], X.iloc[:, 1], c=y, cmap=cmap_bold)\n",
    "\n",
    "plt.xlim(xx.min(), xx.max())\n",
    "plt.ylim(yy.min(), yy.max())\n",
    "plt.title(\"3-Nearest Neighbors Classifier\");"
   ]
  },
  {
   "cell_type": "markdown",
   "metadata": {},
   "source": [
    "Let's try fitting an visualizing another classifier, the Perceptron."
   ]
  },
  {
   "cell_type": "code",
   "execution_count": 61,
   "metadata": {},
   "outputs": [
    {
     "data": {
      "image/png": "[encoded data removed]",
      "text/plain": [
       "<matplotlib.figure.Figure at 0x1a217edb38>"
      ]
     },
     "metadata": {},
     "output_type": "display_data"
    }
   ],
   "source": [
    "from sklearn.linear_model import Perceptron\n",
    "\n",
    "clf_per = Perceptron(max_iter=1000)\n",
    "clf_per.fit(X, y)\n",
    "\n",
    "# Predict a class value for each point in the mesh.\n",
    "Z = clf_per.predict(np.c_[xx.ravel(), yy.ravel()])\n",
    "\n",
    "# Use the predictions to create a color plot.\n",
    "Z = Z.reshape(xx.shape)\n",
    "plt.figure()\n",
    "plt.pcolormesh(xx, yy, Z, cmap=cmap_light)\n",
    "\n",
    "# Plot the training points.\n",
    "plt.scatter(X.iloc[:, 0], X.iloc[:, 1], c=y, cmap=cmap_bold)\n",
    "\n",
    "plt.xlim(xx.min(), xx.max())\n",
    "plt.ylim(yy.min(), yy.max())\n",
    "plt.title(\"Perceptron Classifier\");"
   ]
  },
  {
   "cell_type": "markdown",
   "metadata": {},
   "source": [
    "Now, when building a model, we're typically interested in performance on data we haven't yet seen. A simple model that simply memorizes the training data may perform well on the data we've seen but poorly on unseen data. Unless we can evaluate a model on unseen data, we don't know how accurate its predictions may be.\n",
    "\n",
    "To address this issue, we can separate the data into training and testing sets. We can fit the model on the training data and then evaluate it on the separate testing data. `sklearn` provides a convenient function to do this. Let's save 20% of our data for testing, and use the rest for fitting our models."
   ]
  },
  {
   "cell_type": "code",
   "execution_count": 62,
   "metadata": {},
   "outputs": [
    {
     "name": "stdout",
     "output_type": "stream",
     "text": [
      "0.8333333333333334\n",
      "0.7666666666666667\n"
     ]
    }
   ],
   "source": [
    "from sklearn.model_selection import train_test_split\n",
    "X_train, X_test, y_train, y_test = train_test_split(X, y, test_size=0.2)\n",
    "\n",
    "clf_knn.fit(X_train, y_train)\n",
    "clf_per.fit(X_train, y_train)\n",
    "\n",
    "y_pred_knn = clf_knn.predict(X_test)\n",
    "y_pred_per = clf_per.predict(X_test)\n",
    "\n",
    "print(np.average(y_test == y_pred_knn))\n",
    "print(np.average(y_test == y_pred_per))"
   ]
  },
  {
   "cell_type": "markdown",
   "metadata": {},
   "source": [
    "Let's try viewing the results from a logistic regression classifier."
   ]
  },
  {
   "cell_type": "code",
   "execution_count": 63,
   "metadata": {},
   "outputs": [
    {
     "data": {
      "image/png": "[encoded data removed]",
      "text/plain": [
       "<matplotlib.figure.Figure at 0x1a20295d30>"
      ]
     },
     "metadata": {},
     "output_type": "display_data"
    }
   ],
   "source": [
    "from sklearn.linear_model import LogisticRegression\n",
    "\n",
    "clf_lr = LogisticRegression()\n",
    "clf_lr.fit(X, y)\n",
    "\n",
    "# Predict a class value for each point in the mesh.\n",
    "Z = clf_lr.predict(np.c_[xx.ravel(), yy.ravel()])\n",
    "\n",
    "# Use the predictions to create a color plot.\n",
    "Z = Z.reshape(xx.shape)\n",
    "plt.figure()\n",
    "plt.pcolormesh(xx, yy, Z, cmap=cmap_light)\n",
    "\n",
    "# Plot the training points.\n",
    "plt.scatter(X.iloc[:, 0], X.iloc[:, 1], c=y, cmap=cmap_bold)\n",
    "\n",
    "plt.xlim(xx.min(), xx.max())\n",
    "plt.ylim(yy.min(), yy.max())\n",
    "plt.title(\"Logistic Regression Classifier\");"
   ]
  },
  {
   "cell_type": "markdown",
   "metadata": {},
   "source": [
    "Let's try viewing the online results of the perceptron classifier. As an iterative classifier, we can use `matplotlib`'s animation functions to view how the algorithm learns over the course of many iterations."
   ]
  },
  {
   "cell_type": "code",
   "execution_count": 64,
   "metadata": {},
   "outputs": [
    {
     "data": {
      "application/javascript": [
       "/* Put everything inside the global mpl namespace */\n",
       "window.mpl = {};\n",
       "\n",
       "\n",
       "mpl.get_websocket_type = function() {\n",
       "    if (typeof(WebSocket) !== 'undefined') {\n",
       "        return WebSocket;\n",
       "    } else if (typeof(MozWebSocket) !== 'undefined') {\n",
       "        return MozWebSocket;\n",
       "    } else {\n",
       "        alert('Your browser does not have WebSocket support.' +\n",
       "              'Please try Chrome, Safari or Firefox ≥ 6. ' +\n",
       "              'Firefox 4 and 5 are also supported but you ' +\n",
       "              'have to enable WebSockets in about:config.');\n",
       "    };\n",
       "}\n",
       "\n",
       "mpl.figure = function(figure_id, websocket, ondownload, parent_element) {\n",
       "    this.id = figure_id;\n",
       "\n",
       "    this.ws = websocket;\n",
       "\n",
       "    this.supports_binary = (this.ws.binaryType != undefined);\n",
       "\n",
       "    if (!this.supports_binary) {\n",
       "        var warnings = document.getElementById(\"mpl-warnings\");\n",
       "        if (warnings) {\n",
       "            warnings.style.display = 'block';\n",
       "            warnings.textContent = (\n",
       "                \"This browser does not support binary websocket messages. \" +\n",
       "                    \"Performance may be slow.\");\n",
       "        }\n",
       "    }\n",
       "\n",
       "    this.imageObj = new Image();\n",
       "\n",
       "    this.context = undefined;\n",
       "    this.message = undefined;\n",
       "    this.canvas = undefined;\n",
       "    this.rubberband_canvas = undefined;\n",
       "    this.rubberband_context = undefined;\n",
       "    this.format_dropdown = undefined;\n",
       "\n",
       "    this.image_mode = 'full';\n",
       "\n",
       "    this.root = $('<div/>');\n",
       "    this._root_extra_style(this.root)\n",
       "    this.root.attr('style', 'display: inline-block');\n",
       "\n",
       "    $(parent_element).append(this.root);\n",
       "\n",
       "    this._init_header(this);\n",
       "    this._init_canvas(this);\n",
       "    this._init_toolbar(this);\n",
       "\n",
       "    var fig = this;\n",
       "\n",
       "    this.waiting = false;\n",
       "\n",
       "    this.ws.onopen =  function () {\n",
       "            fig.send_message(\"supports_binary\", {value: fig.supports_binary});\n",
       "            fig.send_message(\"send_image_mode\", {});\n",
       "            if (mpl.ratio != 1) {\n",
       "                fig.send_message(\"set_dpi_ratio\", {'dpi_ratio': mpl.ratio});\n",
       "            }\n",
       "            fig.send_message(\"refresh\", {});\n",
       "        }\n",
       "\n",
       "    this.imageObj.onload = function() {\n",
       "            if (fig.image_mode == 'full') {\n",
       "                // Full images could contain transparency (where diff images\n",
       "                // almost always do), so we need to clear the canvas so that\n",
       "                // there is no ghosting.\n",
       "                fig.context.clearRect(0, 0, fig.canvas.width, fig.canvas.height);\n",
       "            }\n",
       "            fig.context.drawImage(fig.imageObj, 0, 0);\n",
       "        };\n",
       "\n",
       "    this.imageObj.onunload = function() {\n",
       "        fig.ws.close();\n",
       "    }\n",
       "\n",
       "    this.ws.onmessage = this._make_on_message_function(this);\n",
       "\n",
       "    this.ondownload = ondownload;\n",
       "}\n",
       "\n",
       "mpl.figure.prototype._init_header = function() {\n",
       "    var titlebar = $(\n",
       "        '<div class=\"ui-dialog-titlebar ui-widget-header ui-corner-all ' +\n",
       "        'ui-helper-clearfix\"/>');\n",
       "    var titletext = $(\n",
       "        '<div class=\"ui-dialog-title\" style=\"width: 100%; ' +\n",
       "        'text-align: center; padding: 3px;\"/>');\n",
       "    titlebar.append(titletext)\n",
       "    this.root.append(titlebar);\n",
       "    this.header = titletext[0];\n",
       "}\n",
       "\n",
       "\n",
       "\n",
       "mpl.figure.prototype._canvas_extra_style = function(canvas_div) {\n",
       "\n",
       "}\n",
       "\n",
       "\n",
       "mpl.figure.prototype._root_extra_style = function(canvas_div) {\n",
       "\n",
       "}\n",
       "\n",
       "mpl.figure.prototype._init_canvas = function() {\n",
       "    var fig = this;\n",
       "\n",
       "    var canvas_div = $('<div/>');\n",
       "\n",
       "    canvas_div.attr('style', 'position: relative; clear: both; outline: 0');\n",
       "\n",
       "    function canvas_keyboard_event(event) {\n",
       "        return fig.key_event(event, event['data']);\n",
       "    }\n",
       "\n",
       "    canvas_div.keydown('key_press', canvas_keyboard_event);\n",
       "    canvas_div.keyup('key_release', canvas_keyboard_event);\n",
       "    this.canvas_div = canvas_div\n",
       "    this._canvas_extra_style(canvas_div)\n",
       "    this.root.append(canvas_div);\n",
       "\n",
       "    var canvas = $('<canvas/>');\n",
       "    canvas.addClass('mpl-canvas');\n",
       "    canvas.attr('style', \"left: 0; top: 0; z-index: 0; outline: 0\")\n",
       "\n",
       "    this.canvas = canvas[0];\n",
       "    this.context = canvas[0].getContext(\"2d\");\n",
       "\n",
       "    var backingStore = this.context.backingStorePixelRatio ||\n",
       "\tthis.context.webkitBackingStorePixelRatio ||\n",
       "\tthis.context.mozBackingStorePixelRatio ||\n",
       "\tthis.context.msBackingStorePixelRatio ||\n",
       "\tthis.context.oBackingStorePixelRatio ||\n",
       "\tthis.context.backingStorePixelRatio || 1;\n",
       "\n",
       "    mpl.ratio = (window.devicePixelRatio || 1) / backingStore;\n",
       "\n",
       "    var rubberband = $('<canvas/>');\n",
       "    rubberband.attr('style', \"position: absolute; left: 0; top: 0; z-index: 1;\")\n",
       "\n",
       "    var pass_mouse_events = true;\n",
       "\n",
       "    canvas_div.resizable({\n",
       "        start: function(event, ui) {\n",
       "            pass_mouse_events = false;\n",
       "        },\n",
       "        resize: function(event, ui) {\n",
       "            fig.request_resize(ui.size.width, ui.size.height);\n",
       "        },\n",
       "        stop: function(event, ui) {\n",
       "            pass_mouse_events = true;\n",
       "            fig.request_resize(ui.size.width, ui.size.height);\n",
       "        },\n",
       "    });\n",
       "\n",
       "    function mouse_event_fn(event) {\n",
       "        if (pass_mouse_events)\n",
       "            return fig.mouse_event(event, event['data']);\n",
       "    }\n",
       "\n",
       "    rubberband.mousedown('button_press', mouse_event_fn);\n",
       "    rubberband.mouseup('button_release', mouse_event_fn);\n",
       "    // Throttle sequential mouse events to 1 every 20ms.\n",
       "    rubberband.mousemove('motion_notify', mouse_event_fn);\n",
       "\n",
       "    rubberband.mouseenter('figure_enter', mouse_event_fn);\n",
       "    rubberband.mouseleave('figure_leave', mouse_event_fn);\n",
       "\n",
       "    canvas_div.on(\"wheel\", function (event) {\n",
       "        event = event.originalEvent;\n",
       "        event['data'] = 'scroll'\n",
       "        if (event.deltaY < 0) {\n",
       "            event.step = 1;\n",
       "        } else {\n",
       "            event.step = -1;\n",
       "        }\n",
       "        mouse_event_fn(event);\n",
       "    });\n",
       "\n",
       "    canvas_div.append(canvas);\n",
       "    canvas_div.append(rubberband);\n",
       "\n",
       "    this.rubberband = rubberband;\n",
       "    this.rubberband_canvas = rubberband[0];\n",
       "    this.rubberband_context = rubberband[0].getContext(\"2d\");\n",
       "    this.rubberband_context.strokeStyle = \"#000000\";\n",
       "\n",
       "    this._resize_canvas = function(width, height) {\n",
       "        // Keep the size of the canvas, canvas container, and rubber band\n",
       "        // canvas in synch.\n",
       "        canvas_div.css('width', width)\n",
       "        canvas_div.css('height', height)\n",
       "\n",
       "        canvas.attr('width', width * mpl.ratio);\n",
       "        canvas.attr('height', height * mpl.ratio);\n",
       "        canvas.attr('style', 'width: ' + width + 'px; height: ' + height + 'px;');\n",
       "\n",
       "        rubberband.attr('width', width);\n",
       "        rubberband.attr('height', height);\n",
       "    }\n",
       "\n",
       "    // Set the figure to an initial 600x600px, this will subsequently be updated\n",
       "    // upon first draw.\n",
       "    this._resize_canvas(600, 600);\n",
       "\n",
       "    // Disable right mouse context menu.\n",
       "    $(this.rubberband_canvas).bind(\"contextmenu\",function(e){\n",
       "        return false;\n",
       "    });\n",
       "\n",
       "    function set_focus () {\n",
       "        canvas.focus();\n",
       "        canvas_div.focus();\n",
       "    }\n",
       "\n",
       "    window.setTimeout(set_focus, 100);\n",
       "}\n",
       "\n",
       "mpl.figure.prototype._init_toolbar = function() {\n",
       "    var fig = this;\n",
       "\n",
       "    var nav_element = $('<div/>')\n",
       "    nav_element.attr('style', 'width: 100%');\n",
       "    this.root.append(nav_element);\n",
       "\n",
       "    // Define a callback function for later on.\n",
       "    function toolbar_event(event) {\n",
       "        return fig.toolbar_button_onclick(event['data']);\n",
       "    }\n",
       "    function toolbar_mouse_event(event) {\n",
       "        return fig.toolbar_button_onmouseover(event['data']);\n",
       "    }\n",
       "\n",
       "    for(var toolbar_ind in mpl.toolbar_items) {\n",
       "        var name = mpl.toolbar_items[toolbar_ind][0];\n",
       "        var tooltip = mpl.toolbar_items[toolbar_ind][1];\n",
       "        var image = mpl.toolbar_items[toolbar_ind][2];\n",
       "        var method_name = mpl.toolbar_items[toolbar_ind][3];\n",
       "\n",
       "        if (!name) {\n",
       "            // put a spacer in here.\n",
       "            continue;\n",
       "        }\n",
       "        var button = $('<button/>');\n",
       "        button.addClass('ui-button ui-widget ui-state-default ui-corner-all ' +\n",
       "                        'ui-button-icon-only');\n",
       "        button.attr('role', 'button');\n",
       "        button.attr('aria-disabled', 'false');\n",
       "        button.click(method_name, toolbar_event);\n",
       "        button.mouseover(tooltip, toolbar_mouse_event);\n",
       "\n",
       "        var icon_img = $('<span/>');\n",
       "        icon_img.addClass('ui-button-icon-primary ui-icon');\n",
       "        icon_img.addClass(image);\n",
       "        icon_img.addClass('ui-corner-all');\n",
       "\n",
       "        var tooltip_span = $('<span/>');\n",
       "        tooltip_span.addClass('ui-button-text');\n",
       "        tooltip_span.html(tooltip);\n",
       "\n",
       "        button.append(icon_img);\n",
       "        button.append(tooltip_span);\n",
       "\n",
       "        nav_element.append(button);\n",
       "    }\n",
       "\n",
       "    var fmt_picker_span = $('<span/>');\n",
       "\n",
       "    var fmt_picker = $('<select/>');\n",
       "    fmt_picker.addClass('mpl-toolbar-option ui-widget ui-widget-content');\n",
       "    fmt_picker_span.append(fmt_picker);\n",
       "    nav_element.append(fmt_picker_span);\n",
       "    this.format_dropdown = fmt_picker[0];\n",
       "\n",
       "    for (var ind in mpl.extensions) {\n",
       "        var fmt = mpl.extensions[ind];\n",
       "        var option = $(\n",
       "            '<option/>', {selected: fmt === mpl.default_extension}).html(fmt);\n",
       "        fmt_picker.append(option)\n",
       "    }\n",
       "\n",
       "    // Add hover states to the ui-buttons\n",
       "    $( \".ui-button\" ).hover(\n",
       "        function() { $(this).addClass(\"ui-state-hover\");},\n",
       "        function() { $(this).removeClass(\"ui-state-hover\");}\n",
       "    );\n",
       "\n",
       "    var status_bar = $('<span class=\"mpl-message\"/>');\n",
       "    nav_element.append(status_bar);\n",
       "    this.message = status_bar[0];\n",
       "}\n",
       "\n",
       "mpl.figure.prototype.request_resize = function(x_pixels, y_pixels) {\n",
       "    // Request matplotlib to resize the figure. Matplotlib will then trigger a resize in the client,\n",
       "    // which will in turn request a refresh of the image.\n",
       "    this.send_message('resize', {'width': x_pixels, 'height': y_pixels});\n",
       "}\n",
       "\n",
       "mpl.figure.prototype.send_message = function(type, properties) {\n",
       "    properties['type'] = type;\n",
       "    properties['figure_id'] = this.id;\n",
       "    this.ws.send(JSON.stringify(properties));\n",
       "}\n",
       "\n",
       "mpl.figure.prototype.send_draw_message = function() {\n",
       "    if (!this.waiting) {\n",
       "        this.waiting = true;\n",
       "        this.ws.send(JSON.stringify({type: \"draw\", figure_id: this.id}));\n",
       "    }\n",
       "}\n",
       "\n",
       "\n",
       "mpl.figure.prototype.handle_save = function(fig, msg) {\n",
       "    var format_dropdown = fig.format_dropdown;\n",
       "    var format = format_dropdown.options[format_dropdown.selectedIndex].value;\n",
       "    fig.ondownload(fig, format);\n",
       "}\n",
       "\n",
       "\n",
       "mpl.figure.prototype.handle_resize = function(fig, msg) {\n",
       "    var size = msg['size'];\n",
       "    if (size[0] != fig.canvas.width || size[1] != fig.canvas.height) {\n",
       "        fig._resize_canvas(size[0], size[1]);\n",
       "        fig.send_message(\"refresh\", {});\n",
       "    };\n",
       "}\n",
       "\n",
       "mpl.figure.prototype.handle_rubberband = function(fig, msg) {\n",
       "    var x0 = msg['x0'] / mpl.ratio;\n",
       "    var y0 = (fig.canvas.height - msg['y0']) / mpl.ratio;\n",
       "    var x1 = msg['x1'] / mpl.ratio;\n",
       "    var y1 = (fig.canvas.height - msg['y1']) / mpl.ratio;\n",
       "    x0 = Math.floor(x0) + 0.5;\n",
       "    y0 = Math.floor(y0) + 0.5;\n",
       "    x1 = Math.floor(x1) + 0.5;\n",
       "    y1 = Math.floor(y1) + 0.5;\n",
       "    var min_x = Math.min(x0, x1);\n",
       "    var min_y = Math.min(y0, y1);\n",
       "    var width = Math.abs(x1 - x0);\n",
       "    var height = Math.abs(y1 - y0);\n",
       "\n",
       "    fig.rubberband_context.clearRect(\n",
       "        0, 0, fig.canvas.width, fig.canvas.height);\n",
       "\n",
       "    fig.rubberband_context.strokeRect(min_x, min_y, width, height);\n",
       "}\n",
       "\n",
       "mpl.figure.prototype.handle_figure_label = function(fig, msg) {\n",
       "    // Updates the figure title.\n",
       "    fig.header.textContent = msg['label'];\n",
       "}\n",
       "\n",
       "mpl.figure.prototype.handle_cursor = function(fig, msg) {\n",
       "    var cursor = msg['cursor'];\n",
       "    switch(cursor)\n",
       "    {\n",
       "    case 0:\n",
       "        cursor = 'pointer';\n",
       "        break;\n",
       "    case 1:\n",
       "        cursor = 'default';\n",
       "        break;\n",
       "    case 2:\n",
       "        cursor = 'crosshair';\n",
       "        break;\n",
       "    case 3:\n",
       "        cursor = 'move';\n",
       "        break;\n",
       "    }\n",
       "    fig.rubberband_canvas.style.cursor = cursor;\n",
       "}\n",
       "\n",
       "mpl.figure.prototype.handle_message = function(fig, msg) {\n",
       "    fig.message.textContent = msg['message'];\n",
       "}\n",
       "\n",
       "mpl.figure.prototype.handle_draw = function(fig, msg) {\n",
       "    // Request the server to send over a new figure.\n",
       "    fig.send_draw_message();\n",
       "}\n",
       "\n",
       "mpl.figure.prototype.handle_image_mode = function(fig, msg) {\n",
       "    fig.image_mode = msg['mode'];\n",
       "}\n",
       "\n",
       "mpl.figure.prototype.updated_canvas_event = function() {\n",
       "    // Called whenever the canvas gets updated.\n",
       "    this.send_message(\"ack\", {});\n",
       "}\n",
       "\n",
       "// A function to construct a web socket function for onmessage handling.\n",
       "// Called in the figure constructor.\n",
       "mpl.figure.prototype._make_on_message_function = function(fig) {\n",
       "    return function socket_on_message(evt) {\n",
       "        if (evt.data instanceof Blob) {\n",
       "            /* FIXME: We get \"Resource interpreted as Image but\n",
       "             * transferred with MIME type text/plain:\" errors on\n",
       "             * Chrome.  But how to set the MIME type?  It doesn't seem\n",
       "             * to be part of the websocket stream */\n",
       "            evt.data.type = \"image/png\";\n",
       "\n",
       "            /* Free the memory for the previous frames */\n",
       "            if (fig.imageObj.src) {\n",
       "                (window.URL || window.webkitURL).revokeObjectURL(\n",
       "                    fig.imageObj.src);\n",
       "            }\n",
       "\n",
       "            fig.imageObj.src = (window.URL || window.webkitURL).createObjectURL(\n",
       "                evt.data);\n",
       "            fig.updated_canvas_event();\n",
       "            fig.waiting = false;\n",
       "            return;\n",
       "        }\n",
       "        else if (typeof evt.data === 'string' && evt.data.slice(0, 21) == \"data:image/png;base64\") {\n",
       "            fig.imageObj.src = evt.data;\n",
       "            fig.updated_canvas_event();\n",
       "            fig.waiting = false;\n",
       "            return;\n",
       "        }\n",
       "\n",
       "        var msg = JSON.parse(evt.data);\n",
       "        var msg_type = msg['type'];\n",
       "\n",
       "        // Call the  \"handle_{type}\" callback, which takes\n",
       "        // the figure and JSON message as its only arguments.\n",
       "        try {\n",
       "            var callback = fig[\"handle_\" + msg_type];\n",
       "        } catch (e) {\n",
       "            console.log(\"No handler for the '\" + msg_type + \"' message type: \", msg);\n",
       "            return;\n",
       "        }\n",
       "\n",
       "        if (callback) {\n",
       "            try {\n",
       "                // console.log(\"Handling '\" + msg_type + \"' message: \", msg);\n",
       "                callback(fig, msg);\n",
       "            } catch (e) {\n",
       "                console.log(\"Exception inside the 'handler_\" + msg_type + \"' callback:\", e, e.stack, msg);\n",
       "            }\n",
       "        }\n",
       "    };\n",
       "}\n",
       "\n",
       "// from http://stackoverflow.com/questions/1114465/getting-mouse-location-in-canvas\n",
       "mpl.findpos = function(e) {\n",
       "    //this section is from http://www.quirksmode.org/js/events_properties.html\n",
       "    var targ;\n",
       "    if (!e)\n",
       "        e = window.event;\n",
       "    if (e.target)\n",
       "        targ = e.target;\n",
       "    else if (e.srcElement)\n",
       "        targ = e.srcElement;\n",
       "    if (targ.nodeType == 3) // defeat Safari bug\n",
       "        targ = targ.parentNode;\n",
       "\n",
       "    // jQuery normalizes the pageX and pageY\n",
       "    // pageX,Y are the mouse positions relative to the document\n",
       "    // offset() returns the position of the element relative to the document\n",
       "    var x = e.pageX - $(targ).offset().left;\n",
       "    var y = e.pageY - $(targ).offset().top;\n",
       "\n",
       "    return {\"x\": x, \"y\": y};\n",
       "};\n",
       "\n",
       "/*\n",
       " * return a copy of an object with only non-object keys\n",
       " * we need this to avoid circular references\n",
       " * http://stackoverflow.com/a/24161582/3208463\n",
       " */\n",
       "function simpleKeys (original) {\n",
       "  return Object.keys(original).reduce(function (obj, key) {\n",
       "    if (typeof original[key] !== 'object')\n",
       "        obj[key] = original[key]\n",
       "    return obj;\n",
       "  }, {});\n",
       "}\n",
       "\n",
       "mpl.figure.prototype.mouse_event = function(event, name) {\n",
       "    var canvas_pos = mpl.findpos(event)\n",
       "\n",
       "    if (name === 'button_press')\n",
       "    {\n",
       "        this.canvas.focus();\n",
       "        this.canvas_div.focus();\n",
       "    }\n",
       "\n",
       "    var x = canvas_pos.x * mpl.ratio;\n",
       "    var y = canvas_pos.y * mpl.ratio;\n",
       "\n",
       "    this.send_message(name, {x: x, y: y, button: event.button,\n",
       "                             step: event.step,\n",
       "                             guiEvent: simpleKeys(event)});\n",
       "\n",
       "    /* This prevents the web browser from automatically changing to\n",
       "     * the text insertion cursor when the button is pressed.  We want\n",
       "     * to control all of the cursor setting manually through the\n",
       "     * 'cursor' event from matplotlib */\n",
       "    event.preventDefault();\n",
       "    return false;\n",
       "}\n",
       "\n",
       "mpl.figure.prototype._key_event_extra = function(event, name) {\n",
       "    // Handle any extra behaviour associated with a key event\n",
       "}\n",
       "\n",
       "mpl.figure.prototype.key_event = function(event, name) {\n",
       "\n",
       "    // Prevent repeat events\n",
       "    if (name == 'key_press')\n",
       "    {\n",
       "        if (event.which === this._key)\n",
       "            return;\n",
       "        else\n",
       "            this._key = event.which;\n",
       "    }\n",
       "    if (name == 'key_release')\n",
       "        this._key = null;\n",
       "\n",
       "    var value = '';\n",
       "    if (event.ctrlKey && event.which != 17)\n",
       "        value += \"ctrl+\";\n",
       "    if (event.altKey && event.which != 18)\n",
       "        value += \"alt+\";\n",
       "    if (event.shiftKey && event.which != 16)\n",
       "        value += \"shift+\";\n",
       "\n",
       "    value += 'k';\n",
       "    value += event.which.toString();\n",
       "\n",
       "    this._key_event_extra(event, name);\n",
       "\n",
       "    this.send_message(name, {key: value,\n",
       "                             guiEvent: simpleKeys(event)});\n",
       "    return false;\n",
       "}\n",
       "\n",
       "mpl.figure.prototype.toolbar_button_onclick = function(name) {\n",
       "    if (name == 'download') {\n",
       "        this.handle_save(this, null);\n",
       "    } else {\n",
       "        this.send_message(\"toolbar_button\", {name: name});\n",
       "    }\n",
       "};\n",
       "\n",
       "mpl.figure.prototype.toolbar_button_onmouseover = function(tooltip) {\n",
       "    this.message.textContent = tooltip;\n",
       "};\n",
       "mpl.toolbar_items = [[\"Home\", \"Reset original view\", \"fa fa-home icon-home\", \"home\"], [\"Back\", \"Back to  previous view\", \"fa fa-arrow-left icon-arrow-left\", \"back\"], [\"Forward\", \"Forward to next view\", \"fa fa-arrow-right icon-arrow-right\", \"forward\"], [\"\", \"\", \"\", \"\"], [\"Pan\", \"Pan axes with left mouse, zoom with right\", \"fa fa-arrows icon-move\", \"pan\"], [\"Zoom\", \"Zoom to rectangle\", \"fa fa-square-o icon-check-empty\", \"zoom\"], [\"\", \"\", \"\", \"\"], [\"Download\", \"Download plot\", \"fa fa-floppy-o icon-save\", \"download\"]];\n",
       "\n",
       "mpl.extensions = [\"eps\", \"jpeg\", \"pdf\", \"png\", \"ps\", \"raw\", \"svg\", \"tif\"];\n",
       "\n",
       "mpl.default_extension = \"png\";var comm_websocket_adapter = function(comm) {\n",
       "    // Create a \"websocket\"-like object which calls the given IPython comm\n",
       "    // object with the appropriate methods. Currently this is a non binary\n",
       "    // socket, so there is still some room for performance tuning.\n",
       "    var ws = {};\n",
       "\n",
       "    ws.close = function() {\n",
       "        comm.close()\n",
       "    };\n",
       "    ws.send = function(m) {\n",
       "        //console.log('sending', m);\n",
       "        comm.send(m);\n",
       "    };\n",
       "    // Register the callback with on_msg.\n",
       "    comm.on_msg(function(msg) {\n",
       "        //console.log('receiving', msg['content']['data'], msg);\n",
       "        // Pass the mpl event to the overriden (by mpl) onmessage function.\n",
       "        ws.onmessage(msg['content']['data'])\n",
       "    });\n",
       "    return ws;\n",
       "}\n",
       "\n",
       "mpl.mpl_figure_comm = function(comm, msg) {\n",
       "    // This is the function which gets called when the mpl process\n",
       "    // starts-up an IPython Comm through the \"matplotlib\" channel.\n",
       "\n",
       "    var id = msg.content.data.id;\n",
       "    // Get hold of the div created by the display call when the Comm\n",
       "    // socket was opened in Python.\n",
       "    var element = $(\"#\" + id);\n",
       "    var ws_proxy = comm_websocket_adapter(comm)\n",
       "\n",
       "    function ondownload(figure, format) {\n",
       "        window.open(figure.imageObj.src);\n",
       "    }\n",
       "\n",
       "    var fig = new mpl.figure(id, ws_proxy,\n",
       "                           ondownload,\n",
       "                           element.get(0));\n",
       "\n",
       "    // Call onopen now - mpl needs it, as it is assuming we've passed it a real\n",
       "    // web socket which is closed, not our websocket->open comm proxy.\n",
       "    ws_proxy.onopen();\n",
       "\n",
       "    fig.parent_element = element.get(0);\n",
       "    fig.cell_info = mpl.find_output_cell(\"<div id='\" + id + \"'></div>\");\n",
       "    if (!fig.cell_info) {\n",
       "        console.error(\"Failed to find cell for figure\", id, fig);\n",
       "        return;\n",
       "    }\n",
       "\n",
       "    var output_index = fig.cell_info[2]\n",
       "    var cell = fig.cell_info[0];\n",
       "\n",
       "};\n",
       "\n",
       "mpl.figure.prototype.handle_close = function(fig, msg) {\n",
       "    var width = fig.canvas.width/mpl.ratio\n",
       "    fig.root.unbind('remove')\n",
       "\n",
       "    // Update the output cell to use the data from the current canvas.\n",
       "    fig.push_to_output();\n",
       "    var dataURL = fig.canvas.toDataURL();\n",
       "    // Re-enable the keyboard manager in IPython - without this line, in FF,\n",
       "    // the notebook keyboard shortcuts fail.\n",
       "    IPython.keyboard_manager.enable()\n",
       "    $(fig.parent_element).html('<img src=\"' + dataURL + '\" width=\"' + width + '\">');\n",
       "    fig.close_ws(fig, msg);\n",
       "}\n",
       "\n",
       "mpl.figure.prototype.close_ws = function(fig, msg){\n",
       "    fig.send_message('closing', msg);\n",
       "    // fig.ws.close()\n",
       "}\n",
       "\n",
       "mpl.figure.prototype.push_to_output = function(remove_interactive) {\n",
       "    // Turn the data on the canvas into data in the output cell.\n",
       "    var width = this.canvas.width/mpl.ratio\n",
       "    var dataURL = this.canvas.toDataURL();\n",
       "    this.cell_info[1]['text/html'] = '<img src=\"' + dataURL + '\" width=\"' + width + '\">';\n",
       "}\n",
       "\n",
       "mpl.figure.prototype.updated_canvas_event = function() {\n",
       "    // Tell IPython that the notebook contents must change.\n",
       "    IPython.notebook.set_dirty(true);\n",
       "    this.send_message(\"ack\", {});\n",
       "    var fig = this;\n",
       "    // Wait a second, then push the new image to the DOM so\n",
       "    // that it is saved nicely (might be nice to debounce this).\n",
       "    setTimeout(function () { fig.push_to_output() }, 1000);\n",
       "}\n",
       "\n",
       "mpl.figure.prototype._init_toolbar = function() {\n",
       "    var fig = this;\n",
       "\n",
       "    var nav_element = $('<div/>')\n",
       "    nav_element.attr('style', 'width: 100%');\n",
       "    this.root.append(nav_element);\n",
       "\n",
       "    // Define a callback function for later on.\n",
       "    function toolbar_event(event) {\n",
       "        return fig.toolbar_button_onclick(event['data']);\n",
       "    }\n",
       "    function toolbar_mouse_event(event) {\n",
       "        return fig.toolbar_button_onmouseover(event['data']);\n",
       "    }\n",
       "\n",
       "    for(var toolbar_ind in mpl.toolbar_items){\n",
       "        var name = mpl.toolbar_items[toolbar_ind][0];\n",
       "        var tooltip = mpl.toolbar_items[toolbar_ind][1];\n",
       "        var image = mpl.toolbar_items[toolbar_ind][2];\n",
       "        var method_name = mpl.toolbar_items[toolbar_ind][3];\n",
       "\n",
       "        if (!name) { continue; };\n",
       "\n",
       "        var button = $('<button class=\"btn btn-default\" href=\"#\" title=\"' + name + '\"><i class=\"fa ' + image + ' fa-lg\"></i></button>');\n",
       "        button.click(method_name, toolbar_event);\n",
       "        button.mouseover(tooltip, toolbar_mouse_event);\n",
       "        nav_element.append(button);\n",
       "    }\n",
       "\n",
       "    // Add the status bar.\n",
       "    var status_bar = $('<span class=\"mpl-message\" style=\"text-align:right; float: right;\"/>');\n",
       "    nav_element.append(status_bar);\n",
       "    this.message = status_bar[0];\n",
       "\n",
       "    // Add the close button to the window.\n",
       "    var buttongrp = $('<div class=\"btn-group inline pull-right\"></div>');\n",
       "    var button = $('<button class=\"btn btn-mini btn-primary\" href=\"#\" title=\"Stop Interaction\"><i class=\"fa fa-power-off icon-remove icon-large\"></i></button>');\n",
       "    button.click(function (evt) { fig.handle_close(fig, {}); } );\n",
       "    button.mouseover('Stop Interaction', toolbar_mouse_event);\n",
       "    buttongrp.append(button);\n",
       "    var titlebar = this.root.find($('.ui-dialog-titlebar'));\n",
       "    titlebar.prepend(buttongrp);\n",
       "}\n",
       "\n",
       "mpl.figure.prototype._root_extra_style = function(el){\n",
       "    var fig = this\n",
       "    el.on(\"remove\", function(){\n",
       "\tfig.close_ws(fig, {});\n",
       "    });\n",
       "}\n",
       "\n",
       "mpl.figure.prototype._canvas_extra_style = function(el){\n",
       "    // this is important to make the div 'focusable\n",
       "    el.attr('tabindex', 0)\n",
       "    // reach out to IPython and tell the keyboard manager to turn it's self\n",
       "    // off when our div gets focus\n",
       "\n",
       "    // location in version 3\n",
       "    if (IPython.notebook.keyboard_manager) {\n",
       "        IPython.notebook.keyboard_manager.register_events(el);\n",
       "    }\n",
       "    else {\n",
       "        // location in version 2\n",
       "        IPython.keyboard_manager.register_events(el);\n",
       "    }\n",
       "\n",
       "}\n",
       "\n",
       "mpl.figure.prototype._key_event_extra = function(event, name) {\n",
       "    var manager = IPython.notebook.keyboard_manager;\n",
       "    if (!manager)\n",
       "        manager = IPython.keyboard_manager;\n",
       "\n",
       "    // Check for shift+enter\n",
       "    if (event.shiftKey && event.which == 13) {\n",
       "        this.canvas_div.blur();\n",
       "        event.shiftKey = false;\n",
       "        // Send a \"J\" for go to next cell\n",
       "        event.which = 74;\n",
       "        event.keyCode = 74;\n",
       "        manager.command_mode();\n",
       "        manager.handle_keydown(event);\n",
       "    }\n",
       "}\n",
       "\n",
       "mpl.figure.prototype.handle_save = function(fig, msg) {\n",
       "    fig.ondownload(fig, null);\n",
       "}\n",
       "\n",
       "\n",
       "mpl.find_output_cell = function(html_output) {\n",
       "    // Return the cell and output element which can be found *uniquely* in the notebook.\n",
       "    // Note - this is a bit hacky, but it is done because the \"notebook_saving.Notebook\"\n",
       "    // IPython event is triggered only after the cells have been serialised, which for\n",
       "    // our purposes (turning an active figure into a static one), is too late.\n",
       "    var cells = IPython.notebook.get_cells();\n",
       "    var ncells = cells.length;\n",
       "    for (var i=0; i<ncells; i++) {\n",
       "        var cell = cells[i];\n",
       "        if (cell.cell_type === 'code'){\n",
       "            for (var j=0; j<cell.output_area.outputs.length; j++) {\n",
       "                var data = cell.output_area.outputs[j];\n",
       "                if (data.data) {\n",
       "                    // IPython >= 3 moved mimebundle to data attribute of output\n",
       "                    data = data.data;\n",
       "                }\n",
       "                if (data['text/html'] == html_output) {\n",
       "                    return [cell, data, j];\n",
       "                }\n",
       "            }\n",
       "        }\n",
       "    }\n",
       "}\n",
       "\n",
       "// Register the function which deals with the matplotlib target/channel.\n",
       "// The kernel may be null if the page has been refreshed.\n",
       "if (IPython.notebook.kernel != null) {\n",
       "    IPython.notebook.kernel.comm_manager.register_target('matplotlib', mpl.mpl_figure_comm);\n",
       "}\n"
      ],
      "text/plain": [
       "<IPython.core.display.Javascript object>"
      ]
     },
     "metadata": {},
     "output_type": "display_data"
    },
    {
     "data": {
      "text/html": [
       "<img src=\"data:image/png;base64,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\" width=\"449\">"
      ],
      "text/plain": [
       "<IPython.core.display.HTML object>"
      ]
     },
     "metadata": {},
     "output_type": "display_data"
    }
   ],
   "source": [
    "%matplotlib notebook\n",
    "\n",
    "import matplotlib.pyplot as plt\n",
    "from IPython.display import HTML\n",
    "from matplotlib import animation, rc\n",
    "\n",
    "# Set up the figure, the axis, and plot elements.\n",
    "fig, ax = plt.subplots()\n",
    "ax.set_xlim(xx.min(), xx.max())\n",
    "ax.set_ylim(yy.min(), yy.max())\n",
    "ax.set_title(\"Perceptron Classifier\")\n",
    "\n",
    "def init():\n",
    "    \"\"\"Initialization function.\"\"\"\n",
    "    clf_per.partial_fit(X, y)\n",
    "\n",
    "def animate(i):\n",
    "    \"\"\"Animation function. This is called sequentially.\"\"\"\n",
    "    clf_per.partial_fit(X, y)\n",
    "\n",
    "    Z = clf_per.predict(np.c_[xx.ravel(), yy.ravel()])\n",
    "\n",
    "    # Put the result into a color plot.\n",
    "    Z = Z.reshape(xx.shape)\n",
    "    ax.pcolormesh(xx, yy, Z, cmap=cmap_light)\n",
    "\n",
    "    # Plot the training points.\n",
    "    ax.scatter(X.iloc[:, 0], X.iloc[:, 1], c=y, cmap=cmap_bold)\n",
    "\n",
    "    return ax\n",
    "\n",
    "# Call the animator.\n",
    "anim = animation.FuncAnimation(fig, func=animate, frames=25, init_func=init)\n",
    "\n",
    "HTML(anim.to_html5_video());  # requires ffmpeg to be installed"
   ]
  },
  {
   "cell_type": "markdown",
   "metadata": {},
   "source": [
    "## Housing Dataset"
   ]
  },
  {
   "cell_type": "markdown",
   "metadata": {},
   "source": [
    "Let's practice applying what we've learned to a house price dataset for Ames, Iowa. We'll try to predict whether the house price is \"high\" or \"low\"."
   ]
  },
  {
   "cell_type": "code",
   "execution_count": 65,
   "metadata": {},
   "outputs": [
    {
     "name": "stdout",
     "output_type": "stream",
     "text": [
      "   Order        PID  MS SubClass MS Zoning  Lot Frontage  Lot Area Street  \\\n",
      "0      1  526301100           20        RL         141.0     31770   Pave   \n",
      "1      2  526350040           20        RH          80.0     11622   Pave   \n",
      "2      3  526351010           20        RL          81.0     14267   Pave   \n",
      "3      4  526353030           20        RL          93.0     11160   Pave   \n",
      "4      5  527105010           60        RL          74.0     13830   Pave   \n",
      "\n",
      "  Alley Lot Shape Land Contour    ...     Pool Area Pool QC  Fence  \\\n",
      "0   NaN       IR1          Lvl    ...             0     NaN    NaN   \n",
      "1   NaN       Reg          Lvl    ...             0     NaN  MnPrv   \n",
      "2   NaN       IR1          Lvl    ...             0     NaN    NaN   \n",
      "3   NaN       Reg          Lvl    ...             0     NaN    NaN   \n",
      "4   NaN       IR1          Lvl    ...             0     NaN  MnPrv   \n",
      "\n",
      "  Misc Feature Misc Val Mo Sold Yr Sold Sale Type  Sale Condition  SalePrice  \n",
      "0          NaN        0       5    2010       WD           Normal     215000  \n",
      "1          NaN        0       6    2010       WD           Normal     105000  \n",
      "2         Gar2    12500       6    2010       WD           Normal     172000  \n",
      "3          NaN        0       4    2010       WD           Normal     244000  \n",
      "4          NaN        0       3    2010       WD           Normal     189900  \n",
      "\n",
      "[5 rows x 82 columns]\n"
     ]
    }
   ],
   "source": [
    "df = pd.read_excel('http://www.amstat.org/publications/jse/v19n3/decock/AmesHousing.xls')\n",
    "print(df.head())"
   ]
  },
  {
   "cell_type": "markdown",
   "metadata": {},
   "source": [
    "### 1. Drop or fill missing values. Consider how to handle the following columns, which have many missing values: `Alley`, `Fence`, `Fireplace Qu`, `Misc Feature`, `Pool QC`."
   ]
  },
  {
   "cell_type": "code",
   "execution_count": 66,
   "metadata": {
    "collapsed": true
   },
   "outputs": [],
   "source": [
    "df = df.drop(['Alley', 'Fence', 'Fireplace Qu', 'Misc Feature', 'Pool QC'], 1)\n",
    "df = df.dropna()"
   ]
  },
  {
   "cell_type": "markdown",
   "metadata": {},
   "source": [
    "### 2. Separate the features and the class. Here, our class is the last column `SalePrice`."
   ]
  },
  {
   "cell_type": "code",
   "execution_count": 67,
   "metadata": {
    "collapsed": true
   },
   "outputs": [],
   "source": [
    "X = df.iloc[:, :-1]\n",
    "y = df.iloc[:, -1]"
   ]
  },
  {
   "cell_type": "markdown",
   "metadata": {},
   "source": [
    "### 3. Transform the features to dummy variables."
   ]
  },
  {
   "cell_type": "code",
   "execution_count": 68,
   "metadata": {
    "collapsed": true
   },
   "outputs": [],
   "source": [
    "X = pd.get_dummies(X)"
   ]
  },
  {
   "cell_type": "markdown",
   "metadata": {},
   "source": [
    "### 4. Bin the SalePrice into two outcomes, 'high' or 'low'. Make them roughly balanced."
   ]
  },
  {
   "cell_type": "code",
   "execution_count": 69,
   "metadata": {},
   "outputs": [
    {
     "name": "stdout",
     "output_type": "stream",
     "text": [
      "(2218, 270) (2218,)\n",
      "0    High\n",
      "1     Low\n",
      "2    High\n",
      "3    High\n",
      "4    High\n",
      "5    High\n",
      "6    High\n",
      "7    High\n",
      "8    High\n",
      "9    High\n",
      "Name: SalePrice, dtype: category\n",
      "Categories (2, object): [Low < High]\n"
     ]
    }
   ],
   "source": [
    "class_names = ['Low', 'High']\n",
    "y_bin = pd.qcut(df['SalePrice'], 2, labels=class_names)\n",
    "print(X.shape, y_bin.shape)\n",
    "print(y_bin.head(10))"
   ]
  },
  {
   "cell_type": "markdown",
   "metadata": {},
   "source": [
    "### 5. Split the dataset into 80% training data and 20% testing data. Each row should consist of the features, `X`, and the binned sales price, `y`."
   ]
  },
  {
   "cell_type": "code",
   "execution_count": 70,
   "metadata": {
    "collapsed": true
   },
   "outputs": [],
   "source": [
    "from sklearn.model_selection import train_test_split\n",
    "X_train, X_test, y_train, y_test = train_test_split(X, y_bin, test_size=0.2)"
   ]
  },
  {
   "cell_type": "markdown",
   "metadata": {},
   "source": [
    "### 6. Fit three models: a 1-nearest neighbors classifier, a 10-nearest neighbors classifier, and a 100-nearest neighbors classifier. Fit them all on the training data. Use all of the feature data to predict the class."
   ]
  },
  {
   "cell_type": "code",
   "execution_count": 71,
   "metadata": {
    "collapsed": true
   },
   "outputs": [],
   "source": [
    "clf1 = KNeighborsClassifier(n_neighbors=1)\n",
    "clf2 = KNeighborsClassifier(n_neighbors=10)\n",
    "clf3 = KNeighborsClassifier(n_neighbors=100)\n",
    "\n",
    "clf1.fit(X_train, y_train);\n",
    "clf2.fit(X_train, y_train);\n",
    "clf3.fit(X_train, y_train);"
   ]
  },
  {
   "cell_type": "markdown",
   "metadata": {},
   "source": [
    "### 6. Compare the accuracy of the _k_-nearest neighbors classifiers on the test data. "
   ]
  },
  {
   "cell_type": "code",
   "execution_count": 72,
   "metadata": {},
   "outputs": [
    {
     "name": "stdout",
     "output_type": "stream",
     "text": [
      "KNN (k=1):   0.845\n",
      "KNN (k=10):  0.84\n",
      "KNN (k=100): 0.802\n"
     ]
    }
   ],
   "source": [
    "y_pred1 = clf1.predict(X_test)\n",
    "y_pred2 = clf2.predict(X_test)\n",
    "y_pred3 = clf3.predict(X_test)\n",
    "\n",
    "print(\"KNN (k=1):  \", round(np.average(y_test == y_pred1), 3))\n",
    "print(\"KNN (k=10): \", round(np.average(y_test == y_pred2), 3))\n",
    "print(\"KNN (k=100):\", round(np.average(y_test == y_pred3), 3))"
   ]
  },
  {
   "cell_type": "markdown",
   "metadata": {},
   "source": [
    "### 7. Now fit a perceptron classifier and logistic regression classifier on the training data. Compare the accuray of the perceptron, logistic regression, and the KNN classifiers. Which performs best?"
   ]
  },
  {
   "cell_type": "code",
   "execution_count": 73,
   "metadata": {},
   "outputs": [
    {
     "name": "stdout",
     "output_type": "stream",
     "text": [
      "Perceptron: 0.509\n",
      "Logistic Regression: 0.491\n"
     ]
    }
   ],
   "source": [
    "clf4 = Perceptron(max_iter=1000)\n",
    "clf5 = LogisticRegression()\n",
    "\n",
    "clf4.fit(X_train, y_train)\n",
    "clf5.fit(X_train, y_train)\n",
    "\n",
    "y_pred4 = clf4.predict(X_test)\n",
    "y_pred5 = clf5.predict(X_test)\n",
    "print(\"Perceptron:\", round(np.average(y_test == y_pred4), 3))\n",
    "print(\"Logistic Regression:\", round(np.average(y_test == y_pred5), 3))"
   ]
  }
 ],
 "metadata": {
  "kernelspec": {
   "display_name": "Python 3",
   "language": "python",
   "name": "python3"
  },
  "language_info": {
   "codemirror_mode": {
    "name": "ipython",
    "version": 3
   },
   "file_extension": ".py",
   "mimetype": "text/x-python",
   "name": "python",
   "nbconvert_exporter": "python",
   "pygments_lexer": "ipython3",
   "version": "3.6.3"
  }
 },
 "nbformat": 4,
 "nbformat_minor": 1
}
